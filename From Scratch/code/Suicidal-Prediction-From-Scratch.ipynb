{
  "cells": [
    {
      "cell_type": "markdown",
      "metadata": {},
      "source": [
        "# Suicidal Prediction From Scratch\n"
      ]
    },
    {
      "cell_type": "code",
      "execution_count": 1,
      "metadata": {
        "id": "dL40voW92Y4M"
      },
      "outputs": [],
      "source": [
        "import torch\n",
        "import torch.nn as nn\n",
        "import torch.optim as optim\n",
        "from torch.utils.data import Dataset, DataLoader, TensorDataset\n",
        "from transformers import  AdamW\n",
        "from torch.nn import TransformerEncoder, TransformerEncoderLayer\n",
        "import pandas as pd\n",
        "import numpy as np\n",
        "import spacy\n",
        "import re\n",
        "import math\n",
        "import gc\n",
        "from sklearn.model_selection import train_test_split as tts\n",
        "from sklearn.feature_extraction.text import TfidfVectorizer\n",
        "from sklearn.decomposition import PCA\n",
        "from transformers import BertTokenizer\n",
        "import ast\n",
        "from torch.nn.utils.rnn import pad_sequence\n",
        "import os\n",
        "import matplotlib.pyplot as plt"
      ]
    },
    {
      "cell_type": "markdown",
      "metadata": {},
      "source": [
        "## Model CLasses \n",
        "####  \n",
        "---\n"
      ]
    },
    {
      "cell_type": "code",
      "execution_count": 2,
      "metadata": {},
      "outputs": [],
      "source": [
        "class PositionalEncoding(nn.Module):\n",
        "    \"\"\"\n",
        "    Positional Encoding module for Transformer models.\n",
        "\n",
        "    Args:\n",
        "        d_model (int): The number of expected features in the input.\n",
        "        max_len (int, optional): The maximum length of the input sequence. Default is 23187.\n",
        "\n",
        "    Attributes:\n",
        "        dropout (nn.Dropout): Dropout layer.\n",
        "        pe (torch.Tensor): Positional encoding tensor.\n",
        "\n",
        "    \"\"\"\n",
        "\n",
        "    def __init__(self, d_model, max_len=23187):\n",
        "        super(PositionalEncoding, self).__init__()\n",
        "        self.dropout = nn.Dropout(p=0.1)\n",
        "\n",
        "        pe = torch.zeros((max_len, d_model)) \n",
        "        position = torch.arange(0, max_len, dtype=torch.float).unsqueeze(1)\n",
        "        div_term = torch.exp(torch.arange(0, d_model, 2).float() * (-math.log(10000.0) / d_model))\n",
        "        pe[:, 0::2] = torch.sin(position * div_term)\n",
        "        pe[:, 1::2] = torch.cos(position * div_term)\n",
        "        pe = pe.unsqueeze(0).transpose(0, 1)\n",
        "        self.register_buffer('pe', pe)\n",
        "\n",
        "    def forward(self, x):\n",
        "        \"\"\"\n",
        "        Forward pass of the PositionalEncoding module.\n",
        "\n",
        "        Args:\n",
        "            x (torch.Tensor): Input tensor.\n",
        "\n",
        "        Returns:\n",
        "            torch.Tensor: Output tensor after adding positional encoding and applying dropout.\n",
        "\n",
        "        \"\"\"\n",
        "        x = x + self.pe[:x.size(0), :]\n",
        "        return self.dropout(x)\n",
        "\n",
        "\n",
        "class TransformerTextClassifier(nn.Module):\n",
        "    \"\"\"\n",
        "    Transformer-based Text Classifier.\n",
        "\n",
        "    Args:\n",
        "        ntoken (int): The number of unique tokens in the input.\n",
        "        ninp (int): The number of expected features in the input.\n",
        "        nhead (int): The number of heads in the multiheadattention models.\n",
        "        nhid (int): The dimension of the feedforward network model.\n",
        "        nlayers (int): The number of sub-encoder-layers in the encoder.\n",
        "        num_classes (int): The number of classes for classification.\n",
        "        dropout (float, optional): The dropout value. Default is 0.5.\n",
        "        norm_first (bool, optional): Whether to apply layer normalization before the first encoder layer. Default is True.\n",
        "\n",
        "    Attributes:\n",
        "        pos_encoder (PositionalEncoding): PositionalEncoding module.\n",
        "        transformer_encoder (nn.TransformerEncoder): TransformerEncoder module.\n",
        "        encoder (nn.Embedding): Embedding layer.\n",
        "        ninp (int): The number of expected features in the input.\n",
        "        fc (nn.Linear): Linear layer for classification.\n",
        "        activation (nn.GELU): Activation function.\n",
        "\n",
        "    \"\"\"\n",
        "\n",
        "    def __init__(self, ntoken, ninp, nhead, nhid, nlayers, num_classes, dropout=0.5, norm_first=True):\n",
        "        super(TransformerTextClassifier, self).__init__()\n",
        "        self.pos_encoder = PositionalEncoding(ninp)\n",
        "        encoder_layers = nn.TransformerEncoderLayer(ninp, nhead, nhid, dropout, norm_first=norm_first)\n",
        "        self.transformer_encoder = nn.TransformerEncoder(encoder_layers, nlayers)\n",
        "        self.encoder = nn.Embedding(ntoken, ninp)\n",
        "        self.ninp = ninp\n",
        "        self.fc = nn.Linear(ninp, num_classes-1)\n",
        "        self.activation = nn.GELU() \n",
        "\n",
        "        self.init_weights()\n",
        "\n",
        "    def forward(self, src, src_mask):\n",
        "        \"\"\"\n",
        "        Forward pass of the TransformerTextClassifier module.\n",
        "\n",
        "        Args:\n",
        "            src (torch.Tensor): Input tensor.\n",
        "            src_mask (torch.Tensor): Mask tensor for the input.\n",
        "\n",
        "        Returns:\n",
        "            torch.Tensor: Output tensor after classification.\n",
        "\n",
        "        \"\"\"\n",
        "        src = self.encoder(src) * math.sqrt(self.ninp)\n",
        "        src = self.pos_encoder(src)\n",
        "        output = self.transformer_encoder(src, src_mask)\n",
        "        output = output.mean(dim=1)  # Pooling layer (e.g., mean pooling)\n",
        "        output = self.fc(output)\n",
        "        return output\n",
        "\n",
        "    def init_weights(self):\n",
        "        \"\"\"\n",
        "        Initialize the weights of the model.\n",
        "\n",
        "        \"\"\"\n",
        "        initrange = 0.1\n",
        "        for m in self.modules():\n",
        "            if isinstance(m, nn.Linear):\n",
        "                nn.init.xavier_uniform_(m.weight, gain=nn.init.calculate_gain('relu'))\n",
        "                m.bias.data.zero_()\n"
      ]
    },
    {
      "cell_type": "code",
      "execution_count": 9,
      "metadata": {},
      "outputs": [],
      "source": [
        "nlp = spacy.load(\"en_core_web_sm\")\n",
        "tokenizer = BertTokenizer.from_pretrained('bert-base-uncased')"
      ]
    },
    {
      "cell_type": "markdown",
      "metadata": {},
      "source": [
        "#####\n",
        "After preprocessed data once, load the saved data from csv file:"
      ]
    },
    {
      "cell_type": "code",
      "execution_count": 2,
      "metadata": {},
      "outputs": [],
      "source": [
        "data = pd.read_csv('../data/preprocessed_data.csv')"
      ]
    },
    {
      "cell_type": "code",
      "execution_count": 35,
      "metadata": {},
      "outputs": [],
      "source": [
        "### Delete rows with NaN values in the 'token_id' column\n",
        "\n",
        "# data[data['token_id'].isna()]['token_id'].head()\n",
        "# data['token_id'] = data['token_id'].fillna('[]')"
      ]
    },
    {
      "cell_type": "code",
      "execution_count": 3,
      "metadata": {},
      "outputs": [],
      "source": [
        "def convert_string_to_array(s):\n",
        "    return np.array(ast.literal_eval(s))\n",
        "\n",
        "data['token_id']  = data['token_id'] .apply(convert_string_to_array)\n"
      ]
    },
    {
      "cell_type": "code",
      "execution_count": 4,
      "metadata": {},
      "outputs": [
        {
          "data": {
            "text/html": [
              "<div>\n",
              "<style scoped>\n",
              "    .dataframe tbody tr th:only-of-type {\n",
              "        vertical-align: middle;\n",
              "    }\n",
              "\n",
              "    .dataframe tbody tr th {\n",
              "        vertical-align: top;\n",
              "    }\n",
              "\n",
              "    .dataframe thead th {\n",
              "        text-align: right;\n",
              "    }\n",
              "</style>\n",
              "<table border=\"1\" class=\"dataframe\">\n",
              "  <thead>\n",
              "    <tr style=\"text-align: right;\">\n",
              "      <th></th>\n",
              "      <th>text</th>\n",
              "      <th>label</th>\n",
              "      <th>text_prep</th>\n",
              "      <th>token_id</th>\n",
              "      <th>label_prep</th>\n",
              "    </tr>\n",
              "  </thead>\n",
              "  <tbody>\n",
              "    <tr>\n",
              "      <th>0</th>\n",
              "      <td>I recently went through a breakup and she said...</td>\n",
              "      <td>depression</td>\n",
              "      <td>recently go breakup say want friend say try ta...</td>\n",
              "      <td>[3728, 2175, 19010, 2360, 2215, 2767, 2360, 30...</td>\n",
              "      <td>0.0</td>\n",
              "    </tr>\n",
              "    <tr>\n",
              "      <th>1</th>\n",
              "      <td>I do not know how to navigate these feelings, ...</td>\n",
              "      <td>depression</td>\n",
              "      <td>know navigate feeling new feeling stretch unde...</td>\n",
              "      <td>[2113, 22149, 3110, 2047, 3110, 7683, 3305, 27...</td>\n",
              "      <td>0.0</td>\n",
              "    </tr>\n",
              "    <tr>\n",
              "      <th>2</th>\n",
              "      <td>So I have been with my bf for 5 months , and h...</td>\n",
              "      <td>depression</td>\n",
              "      <td>bf month tell depressed week particular happen...</td>\n",
              "      <td>[28939, 3204, 2425, 14777, 2733, 3327, 4148, 2...</td>\n",
              "      <td>0.0</td>\n",
              "    </tr>\n",
              "    <tr>\n",
              "      <th>3</th>\n",
              "      <td>I am so exhausted of this. Just when I think I...</td>\n",
              "      <td>SuicideWatch</td>\n",
              "      <td>exhausted think finally rest think maybe thing...</td>\n",
              "      <td>[9069, 2228, 2633, 2717, 2228, 2672, 2518, 270...</td>\n",
              "      <td>1.0</td>\n",
              "    </tr>\n",
              "    <tr>\n",
              "      <th>4</th>\n",
              "      <td>I have been severly bullied since i was 5 till...</td>\n",
              "      <td>depression</td>\n",
              "      <td>severly bully till result depressed misanthrop...</td>\n",
              "      <td>[100, 20716, 6229, 2765, 14777, 100, 100, 3674...</td>\n",
              "      <td>0.0</td>\n",
              "    </tr>\n",
              "  </tbody>\n",
              "</table>\n",
              "</div>"
            ],
            "text/plain": [
              "                                                text         label  \\\n",
              "0  I recently went through a breakup and she said...    depression   \n",
              "1  I do not know how to navigate these feelings, ...    depression   \n",
              "2  So I have been with my bf for 5 months , and h...    depression   \n",
              "3  I am so exhausted of this. Just when I think I...  SuicideWatch   \n",
              "4  I have been severly bullied since i was 5 till...    depression   \n",
              "\n",
              "                                           text_prep  \\\n",
              "0  recently go breakup say want friend say try ta...   \n",
              "1  know navigate feeling new feeling stretch unde...   \n",
              "2  bf month tell depressed week particular happen...   \n",
              "3  exhausted think finally rest think maybe thing...   \n",
              "4  severly bully till result depressed misanthrop...   \n",
              "\n",
              "                                            token_id  label_prep  \n",
              "0  [3728, 2175, 19010, 2360, 2215, 2767, 2360, 30...         0.0  \n",
              "1  [2113, 22149, 3110, 2047, 3110, 7683, 3305, 27...         0.0  \n",
              "2  [28939, 3204, 2425, 14777, 2733, 3327, 4148, 2...         0.0  \n",
              "3  [9069, 2228, 2633, 2717, 2228, 2672, 2518, 270...         1.0  \n",
              "4  [100, 20716, 6229, 2765, 14777, 100, 100, 3674...         0.0  "
            ]
          },
          "execution_count": 4,
          "metadata": {},
          "output_type": "execute_result"
        }
      ],
      "source": [
        "data.head()"
      ]
    },
    {
      "cell_type": "code",
      "execution_count": 17,
      "metadata": {
        "id": "HeMACk9t5T3_"
      },
      "outputs": [],
      "source": [
        "# Split the data into training, validation, and test sets\n",
        "X = data['token_id']\n",
        "y = data['label_prep']\n",
        "SEED = 1235\n",
        "train_ids_0, test_ids, train_labels_0, test_labels = tts(X, y, test_size = 0.1, random_state = SEED)\n",
        "train_ids, val_ids, train_labels, val_labels = tts(train_ids_0, train_labels_0, test_size = 0.2, random_state = SEED)"
      ]
    },
    {
      "cell_type": "code",
      "execution_count": 23,
      "metadata": {},
      "outputs": [],
      "source": [
        "# Train Hyperparameters\n",
        "num_attention_heads = int(np.random.uniform(2, 4))\n",
        "embedding_size = int(np.random.uniform(120, 170))\n",
        "             # ninp = embedding_size\n",
        "embedding_size = embedding_size - embedding_size % num_attention_heads\n",
        "nhidden = int(np.random.uniform(50, 300))\n",
        "nlayers = int(np.random.uniform(2, 12))\n",
        "Dropout = np.random.uniform(0.1, 0.12)\n",
        "learning_rate = np.random.uniform(1e-3, 0.01)\n",
        "\n",
        "\n",
        "# Chosen Hyperparameters\n",
        "embedding_size = 152\n",
        "num_attention_heads = 8\n",
        "nhidden = 70\n",
        "nlayers = 4\n",
        "criterion = nn.BCEWithLogitsLoss() \n",
        "learning_rate = 3e-3\n",
        "num_epochs = 4\n",
        "batch_size = 32\n"
      ]
    },
    {
      "cell_type": "code",
      "execution_count": 19,
      "metadata": {},
      "outputs": [],
      "source": [
        "\n",
        "device = torch.device(\"cuda\" if torch.cuda.is_available() else \"cpu\")\n",
        "# torch.cuda.set_device(1)\n"
      ]
    },
    {
      "cell_type": "code",
      "execution_count": null,
      "metadata": {
        "id": "ZXxVUBzoxzZ5"
      },
      "outputs": [],
      "source": [
        "ntoken= 37585 # the size of vocabulary after tokenization\n",
        "val_labels_array = val_labels.values.astype(float)\n",
        "test_labels_array = test_labels.values.astype(float)\n",
        "\n",
        "# Pad the sequences to create a tensor of shape (batch_size, max_seq_length)\n",
        "padded_train = pad_sequence([torch.tensor(seq) for seq in train_ids], batch_first=True, padding_value=0)\n",
        "padded_val = pad_sequence([torch.tensor(seq) for seq in val_ids], batch_first=True, padding_value=0)\n",
        "padded_test = pad_sequence([torch.tensor(seq) for seq in test_ids], batch_first=True, padding_value=0)\n",
        "\n",
        "# Create DataLoader objects for the training, validation, and test sets\n",
        "train_dataset = TensorDataset(torch.tensor(padded_train, dtype=torch.float), torch.tensor(train_labels, dtype=torch.float))\n",
        "train_loader = DataLoader(train_dataset, batch_size=batch_size, shuffle=True)\n",
        "\n",
        "val_dataset = TensorDataset(torch.tensor(padded_val, dtype=torch.float), torch.tensor(val_labels_array, dtype=torch.float))\n",
        "val_loader = DataLoader(val_dataset, batch_size=batch_size, shuffle=False)\n",
        "\n",
        "test_dataset =TensorDataset(torch.tensor(padded_test, dtype=torch.float), torch.tensor(test_labels_array, dtype=torch.float))\n"
      ]
    },
    {
      "cell_type": "code",
      "execution_count": 24,
      "metadata": {},
      "outputs": [
        {
          "name": "stdout",
          "output_type": "stream",
          "text": [
            "Hyperparameters:\n",
            "num_attention_heads= 8\n",
            "embedding_size= 152\n",
            "nhidden= 70\n",
            "nlayers= 4\n",
            "dropout= 0.10070429790587701\n",
            "criterion= BCEWithLogitsLoss()\n",
            "learning_rate= 0.003\n",
            "num_epochs= 4\n",
            "batch_size= 32\n",
            "ntoken= 37585\n"
          ]
        }
      ],
      "source": [
        "# Print the hyperparameters\n",
        "print(\"Hyperparameters:\")\n",
        "print(f\"num_attention_heads= {num_attention_heads}\")\n",
        "print(f\"embedding_size= {embedding_size}\")\n",
        "print(f\"nhidden= {nhidden}\")\n",
        "print(f\"nlayers= {nlayers}\")\n",
        "print(f\"dropout= {Dropout}\")\n",
        "print(\"criterion=\", criterion)\n",
        "print(f\"learning_rate= {learning_rate}\")\n",
        "print(f\"num_epochs= {num_epochs}\")\n",
        "print(f\"batch_size= {batch_size}\")\n",
        "print(f\"ntoken= {ntoken}\")"
      ]
    },
    {
      "cell_type": "code",
      "execution_count": null,
      "metadata": {},
      "outputs": [],
      "source": [
        "model = TransformerTextClassifier( ntoken, embedding_size, num_attention_heads, nhidden, nlayers,2, Dropout, norm_first=True).to(device)\n",
        "optimizer = torch.optim.Adam(model.parameters(), lr=learning_rate)"
      ]
    },
    {
      "cell_type": "code",
      "execution_count": 13,
      "metadata": {
        "colab": {
          "base_uri": "https://localhost:8080/",
          "height": 1000
        },
        "id": "wRoKNCUUwuKZ",
        "outputId": "bee0f2e1-7114-4d94-bafb-f5e0cf40761c"
      },
      "outputs": [
        {
          "name": "stdout",
          "output_type": "stream",
          "text": [
            "Epoch [1/4], Batch [51/458], Loss: 2.530, train_acc: 52.39%\n",
            "Epoch [1/4], Batch [101/458], Loss: 0.687, train_acc: 50.50%\n",
            "Epoch [1/4], Batch [151/458], Loss: 0.805, train_acc: 51.75%\n",
            "Epoch [1/4], Batch [201/458], Loss: 0.756, train_acc: 51.31%\n",
            "Epoch [1/4], Batch [251/458], Loss: 0.920, train_acc: 55.38%\n",
            "Epoch [1/4], Batch [301/458], Loss: 0.606, train_acc: 55.88%\n",
            "Epoch [1/4], Batch [351/458], Loss: 0.851, train_acc: 59.56%\n",
            "Epoch [1/4], Batch [401/458], Loss: 0.926, train_acc: 58.63%\n",
            "Epoch [1/4], Batch [451/458], Loss: 0.517, train_acc: 60.00%\n",
            "total_correct 2450, total_samples : 3663, Val Acc: 66.89%\n",
            "Epoch [2/4], Batch [51/458], Loss: 0.520, train_acc: 63.66%\n",
            "Epoch [2/4], Batch [101/458], Loss: 0.567, train_acc: 66.38%\n",
            "Epoch [2/4], Batch [151/458], Loss: 0.598, train_acc: 64.12%\n",
            "Epoch [2/4], Batch [201/458], Loss: 0.666, train_acc: 66.94%\n",
            "Epoch [2/4], Batch [251/458], Loss: 0.632, train_acc: 68.44%\n",
            "Epoch [2/4], Batch [301/458], Loss: 1.021, train_acc: 61.06%\n",
            "Epoch [2/4], Batch [351/458], Loss: 0.442, train_acc: 64.81%\n",
            "Epoch [2/4], Batch [401/458], Loss: 0.596, train_acc: 66.38%\n",
            "Epoch [2/4], Batch [451/458], Loss: 0.675, train_acc: 69.88%\n",
            "total_correct 2558, total_samples : 3663, Val Acc: 69.83%\n",
            "Epoch [3/4], Batch [51/458], Loss: 0.556, train_acc: 73.10%\n",
            "Epoch [3/4], Batch [101/458], Loss: 0.427, train_acc: 75.38%\n",
            "Epoch [3/4], Batch [151/458], Loss: 0.569, train_acc: 74.31%\n",
            "Epoch [3/4], Batch [201/458], Loss: 0.509, train_acc: 74.88%\n",
            "Epoch [3/4], Batch [251/458], Loss: 0.418, train_acc: 75.25%\n",
            "Epoch [3/4], Batch [301/458], Loss: 0.535, train_acc: 74.88%\n",
            "Epoch [3/4], Batch [351/458], Loss: 0.505, train_acc: 73.75%\n",
            "Epoch [3/4], Batch [401/458], Loss: 0.501, train_acc: 74.31%\n",
            "Epoch [3/4], Batch [451/458], Loss: 0.564, train_acc: 74.31%\n",
            "total_correct 2600, total_samples : 3663, Val Acc: 70.98%\n",
            "Epoch [4/4], Batch [51/458], Loss: 0.657, train_acc: 75.06%\n",
            "Epoch [4/4], Batch [101/458], Loss: 0.504, train_acc: 73.12%\n",
            "Epoch [4/4], Batch [151/458], Loss: 0.495, train_acc: 74.81%\n",
            "Epoch [4/4], Batch [201/458], Loss: 0.479, train_acc: 73.81%\n",
            "Epoch [4/4], Batch [251/458], Loss: 0.659, train_acc: 75.75%\n",
            "Epoch [4/4], Batch [301/458], Loss: 0.486, train_acc: 75.94%\n",
            "Epoch [4/4], Batch [351/458], Loss: 0.556, train_acc: 74.50%\n",
            "Epoch [4/4], Batch [401/458], Loss: 0.355, train_acc: 73.81%\n",
            "Epoch [4/4], Batch [451/458], Loss: 0.487, train_acc: 75.25%\n",
            "total_correct 2600, total_samples : 3663, Val Acc: 70.98%\n"
          ]
        }
      ],
      "source": [
        "losses =[]\n",
        "train_accuracies = []\n",
        "\n",
        "for epoch in range(num_epochs):\n",
        "    model.train()\n",
        "    total_correct=0.0\n",
        "    total_samples=0.0\n",
        "    if epoch == 2:\n",
        "        optimizer = torch.optim.Adam(model.parameters(), lr=learning_rate/10)\n",
        "    for batch_idx, (texts, labels) in enumerate(train_loader):\n",
        "        model.train()\n",
        "        # Convert texts and labels to tensors if necessary\n",
        "        texts = texts.to(device).long()  \n",
        "        labels = labels.to(device)\n",
        "\n",
        "        \n",
        "        optimizer.zero_grad()\n",
        "        outputs = model(texts, None)\n",
        "        loss = criterion(outputs.squeeze(), labels.float())\n",
        "        loss.backward()\n",
        "        optimizer.step()\n",
        "\n",
        "        outputs = torch.sigmoid(outputs) \n",
        "        predictions = (outputs > 0.5).float()\n",
        "        total_correct += (predictions[:,0] == labels).sum().item()\n",
        "        total_samples += labels.size(0)\n",
        "        \n",
        "        if batch_idx % 50 == 0 and batch_idx > 0:\n",
        "            accuracy = total_correct / total_samples\n",
        "            losses.append(loss.item())\n",
        "            train_accuracies.append(accuracy)\n",
        "            print(f\"Epoch [{epoch+1}/{num_epochs}], Batch [{batch_idx+1}/{len(train_loader)}], Loss: {loss.item():.3f}, train_acc: {100. * accuracy:.2f}%\")\n",
        "            total_correct = 0.0\n",
        "            total_samples = 0.0\n",
        "\n",
        " \n",
        "    # Validation\n",
        "    model.eval()\n",
        "    with torch.no_grad():\n",
        "        total_correct = 0\n",
        "        total_samples = 0\n",
        "        for texts, labels in val_loader:\n",
        "            texts = texts.to(device).long()  \n",
        "            labels = labels.to(device)\n",
        "            outputs = model(texts, None)\n",
        "            outputs = torch.sigmoid(outputs) \n",
        "            predictions = (outputs > 0.5).float()\n",
        "            total_correct += (predictions[:,0] == labels).sum().item()\n",
        "            total_samples += labels.size(0)\n",
        "            accuracy = total_correct / total_samples\n",
        "    print(f'total_correct {total_correct}, total_samples : {total_samples}, Val Acc: {100. * accuracy:.2f}%')\n",
        "\n"
      ]
    },
    {
      "cell_type": "code",
      "execution_count": 14,
      "metadata": {},
      "outputs": [
        {
          "data": {
            "image/png": "[encoded data removed]",
            "text/plain": [
              "<Figure size 1200x400 with 2 Axes>"
            ]
          },
          "metadata": {},
          "output_type": "display_data"
        }
      ],
      "source": [
        "fig, (ax1, ax2) = plt.subplots(1, 2, figsize=(12, 4))\n",
        "\n",
        "# Plot losses\n",
        "ax1.plot(losses)\n",
        "ax1.set_xlabel('Iteration / 50')\n",
        "ax1.set_ylabel('Loss')\n",
        "ax1.set_title('Training Loss')\n",
        "\n",
        "# Plot train accuracies\n",
        "ax2.plot(train_accuracies)\n",
        "ax2.set_xlabel('Iteration / 50')\n",
        "ax2.set_ylabel('Accuracy')\n",
        "ax2.set_title('Training Accuracy')\n",
        "\n",
        "plt.tight_layout()\n",
        "plt.show()\n",
        "\n"
      ]
    },
    {
      "cell_type": "code",
      "execution_count": 15,
      "metadata": {},
      "outputs": [],
      "source": [
        "# Save the model\n",
        "torch.save(model.state_dict(), '../models/model_checkpoint10.pth')"
      ]
    },
    {
      "cell_type": "code",
      "execution_count": 18,
      "metadata": {},
      "outputs": [
        {
          "name": "stdout",
          "output_type": "stream",
          "text": [
            "total_correct 11282, total_samples : 14651, Val Acc: 77.00%\n"
          ]
        }
      ],
      "source": [
        "# Final training results\n",
        "model.eval()\n",
        "with torch.no_grad():\n",
        "    total_correct = 0\n",
        "    total_samples = 0\n",
        "    for texts, labels in train_loader:\n",
        "        texts = texts.to(device).long()  \n",
        "        labels = labels.to(device)\n",
        "        outputs = model(texts, None)\n",
        "        outputs = torch.sigmoid(outputs) \n",
        "        predictions = (outputs > 0.5).float()\n",
        "        total_correct += (predictions[:,0] == labels).sum().item()\n",
        "        total_samples += labels.size(0)\n",
        "        accuracy = total_correct / total_samples\n",
        "        # print(predictions[:,0])\n",
        "        # print(f'total_correct [{predictions.shape}, total_samples : {labels.shape}')\n",
        "print(f'total_correct {total_correct}, total_samples : {total_samples}, Val Acc: {100. * accuracy:.2f}%')"
      ]
    },
    {
      "cell_type": "code",
      "execution_count": 17,
      "metadata": {},
      "outputs": [
        {
          "name": "stdout",
          "output_type": "stream",
          "text": [
            "total_correct 2600, total_samples : 3663, Val Acc: 70.98%\n"
          ]
        }
      ],
      "source": [
        "# Validation\n",
        "model.eval()\n",
        "with torch.no_grad():\n",
        "    total_correct = 0\n",
        "    total_samples = 0\n",
        "    for texts, labels in val_loader:\n",
        "        texts = texts.to(device).long()  \n",
        "        labels = labels.to(device)\n",
        "        outputs = model(texts, None)\n",
        "        outputs = torch.sigmoid(outputs) \n",
        "        predictions = (outputs > 0.5).float()\n",
        "        total_correct += (predictions[:,0] == labels).sum().item()\n",
        "        total_samples += labels.size(0)\n",
        "        accuracy = total_correct / total_samples\n",
        "        # print(predictions[:,0])\n",
        "        # print(f'total_correct [{predictions.shape}, total_samples : {labels.shape}')\n",
        "print(f'total_correct {total_correct}, total_samples : {total_samples}, Val Acc: {100. * accuracy:.2f}%')"
      ]
    },
    {
      "cell_type": "code",
      "execution_count": 16,
      "metadata": {},
      "outputs": [
        {
          "name": "stdout",
          "output_type": "stream",
          "text": [
            "total_correct 1456, total_samples : 2035, test Acc: 71.55%\n"
          ]
        }
      ],
      "source": [
        "# Test results\n",
        "model.eval()\n",
        "test_loader = DataLoader(test_dataset, batch_size=batch_size, shuffle=False)\n",
        "with torch.no_grad():\n",
        "    total_correct = 0\n",
        "    total_samples = 0\n",
        "\n",
        "    for texts, labels in test_loader:\n",
        "        texts = texts.to(device).long()  \n",
        "        labels = labels.to(device)\n",
        "        outputs = model(texts, None)\n",
        "        outputs = torch.sigmoid(outputs) \n",
        "        predictions = (outputs > 0.5).float()\n",
        "        total_correct += (predictions[:,0] == labels).sum().item()\n",
        "        total_samples += labels.size(0)\n",
        "        accuracy = total_correct / total_samples\n",
        "print(f'total_correct {total_correct}, total_samples : {total_samples}, test Acc: {100. * accuracy:.2f}%')"
      ]
    },
    {
      "cell_type": "markdown",
      "metadata": {},
      "source": [
        "### Memory and Cache Clean \n",
        "####  \n",
        "---\n"
      ]
    },
    {
      "cell_type": "code",
      "execution_count": null,
      "metadata": {},
      "outputs": [],
      "source": [
        "def deallocate_tensors():\n",
        "    for obj in gc.get_objects():\n",
        "        if torch.is_tensor(obj) :\n",
        "            if obj.device.type == 'cuda':\n",
        "                del obj  # This removes the reference to the tensor\n",
        "    torch.cuda.empty_cache()  # This releases any remaining GPU memory not in use\n",
        "\n",
        "deallocate_tensors()\n",
        "\n"
      ]
    },
    {
      "cell_type": "code",
      "execution_count": null,
      "metadata": {},
      "outputs": [],
      "source": [
        "print(torch.cuda.memory_reserved()/(1024 ** 3))\n",
        "\n",
        "# Release cached memory\n",
        "torch.cuda.empty_cache()\n",
        "gc.collect()\n",
        "\n",
        "# After releasing cached memory\n",
        "print(torch.cuda.memory_reserved()/(1024 ** 3))"
      ]
    },
    {
      "cell_type": "code",
      "execution_count": 18,
      "metadata": {},
      "outputs": [
        {
          "name": "stdout",
          "output_type": "stream",
          "text": [
            "Total GPU Memory: 10.91 GB\n",
            "Allocated Memory: 0.06 GB\n",
            "Cached Memory: 0.14 GB\n",
            "Free Memory: 10.71 GB\n"
          ]
        }
      ],
      "source": [
        "\n",
        "def check_gpu_capacity():\n",
        "    if torch.cuda.is_available():\n",
        "        device = torch.device(\"cuda\")\n",
        "        properties = torch.cuda.get_device_properties(device)\n",
        "        total_memory = properties.total_memory / (1024 ** 3)  # Convert bytes to gigabytes\n",
        "        memory_allocated = torch.cuda.memory_allocated(device) / (1024 ** 3)  # Allocated memory in use\n",
        "        memory_cached = torch.cuda.memory_reserved(device) / (1024 ** 3)  # Cached but not currently in use\n",
        "        free_memory = total_memory - memory_allocated - memory_cached\n",
        "        print(f\"Total GPU Memory: {total_memory:.2f} GB\")\n",
        "        print(f\"Allocated Memory: {memory_allocated:.2f} GB\")\n",
        "        print(f\"Cached Memory: {memory_cached:.2f} GB\")\n",
        "        print(f\"Free Memory: {free_memory:.2f} GB\")\n",
        "    else:\n",
        "        print(\"CUDA is not available.\")\n",
        "\n",
        "check_gpu_capacity()\n"
      ]
    }
  ],
  "metadata": {
    "accelerator": "GPU",
    "colab": {
      "gpuType": "T4",
      "provenance": []
    },
    "kernelspec": {
      "display_name": "Python 3",
      "name": "python3"
    },
    "language_info": {
      "codemirror_mode": {
        "name": "ipython",
        "version": 3
      },
      "file_extension": ".py",
      "mimetype": "text/x-python",
      "name": "python",
      "nbconvert_exporter": "python",
      "pygments_lexer": "ipython3",
      "version": "3.8.13"
    }
  },
  "nbformat": 4,
  "nbformat_minor": 0
}
